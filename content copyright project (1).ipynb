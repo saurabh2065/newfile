{
 "cells": [
  {
   "cell_type": "code",
   "execution_count": 3,
   "id": "56272991-1a25-4442-ad56-1c515ed7802d",
   "metadata": {},
   "outputs": [
    {
     "name": "stdin",
     "output_type": "stream",
     "text": [
      "Enter text to check for plagiarism:  Machine learning is useful for predictive analytics.\n"
     ]
    },
    {
     "name": "stdout",
     "output_type": "stream",
     "text": [
      "{'plagiarism_score': 0.7216878364870323}\n"
     ]
    }
   ],
   "source": [
    "import numpy as np\n",
    "import pandas as pd\n",
    "from sklearn.feature_extraction.text import TfidfVectorizer\n",
    "from sklearn.metrics.pairwise import cosine_similarity\n",
    "import joblib\n",
    "\n",
    "# Load or create dataset\n",
    "try:\n",
    "    existing_content = joblib.load(\"content_dataset.pkl\")\n",
    "except FileNotFoundError:\n",
    "    existing_content = [\n",
    "        \"Artificial intelligence is transforming industries with automation.\",\n",
    "        \"Machine learning helps in predictive analytics for businesses.\",\n",
    "        \"Data science combines statistics and AI to extract insights from data.\"\n",
    "    ]\n",
    "    joblib.dump(existing_content, \"content_dataset.pkl\")\n",
    "\n",
    "vectorizer = TfidfVectorizer()\n",
    "vectorizer.fit(existing_content)\n",
    "joblib.dump(vectorizer, \"vectorizer.pkl\")\n",
    "\n",
    "def check_plagiarism(user_content):\n",
    "    if not user_content:\n",
    "        return {\"error\": \"No content provided\"}\n",
    "    \n",
    "    # Load vectorizer and existing dataset\n",
    "    vectorizer = joblib.load(\"vectorizer.pkl\")\n",
    "    existing_content = joblib.load(\"content_dataset.pkl\")\n",
    "    \n",
    "    all_texts = existing_content + [user_content]\n",
    "    tfidf_matrix = vectorizer.transform(all_texts)\n",
    "    \n",
    "    similarity_scores = cosine_similarity(tfidf_matrix[-1:], tfidf_matrix[:-1])\n",
    "    max_similarity = np.max(similarity_scores)\n",
    "    \n",
    "    return {\"plagiarism_score\": float(max_similarity)}\n",
    "\n",
    "if __name__ == \"__main__\":\n",
    "    user_input = input(\"Enter text to check for plagiarism: \")\n",
    "    result = check_plagiarism(user_input)\n",
    "    print(result)\n"
   ]
  },
  {
   "cell_type": "code",
   "execution_count": null,
   "id": "6eadf01b-9a96-4e6e-a816-0eb24aa5e5b3",
   "metadata": {},
   "outputs": [],
   "source": []
  }
 ],
 "metadata": {
  "kernelspec": {
   "display_name": "Python 3 (ipykernel)",
   "language": "python",
   "name": "python3"
  },
  "language_info": {
   "codemirror_mode": {
    "name": "ipython",
    "version": 3
   },
   "file_extension": ".py",
   "mimetype": "text/x-python",
   "name": "python",
   "nbconvert_exporter": "python",
   "pygments_lexer": "ipython3",
   "version": "3.12.7"
  }
 },
 "nbformat": 4,
 "nbformat_minor": 5
}
